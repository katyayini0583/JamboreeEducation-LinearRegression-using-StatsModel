{
 "cells": [
  {
   "cell_type": "markdown",
   "metadata": {},
   "source": [
    "# Jamboree Education - Linear Regression"
   ]
  },
  {
   "cell_type": "markdown",
   "metadata": {},
   "source": [
    "\n",
    "● Jamboree is a renowned educational institution that has successfully assisted numerous\n",
    "students in gaining admission to top colleges abroad. With their proven\n",
    "problem-solving methods, they have helped students achieve exceptional scores on\n",
    "exams like GMAT, GRE, and SAT with minimal effort.\n",
    "\n",
    "● To further support students, Jamboree has recently introduced a new feature on their\n",
    "website. This feature enables students to assess their probability of admission to Ivy\n",
    "League colleges, considering the unique perspective of Indian applicants.\n",
    "\n",
    "● This analysis will help Jamboree in understanding what factors are important in graduate \n",
    "admissions and how these factors are interrelated among themselves. \n",
    "It will also help predict one's chances of admission given the rest of the variables."
   ]
  },
  {
   "cell_type": "markdown",
   "metadata": {},
   "source": [
    "Data set link: https://drive.google.com/file/d/1UCnSk_NN02jlzj0bbSZ_j-gdGUDDJxy4/view"
   ]
  },
  {
   "cell_type": "markdown",
   "metadata": {},
   "source": [
    "Column description:\n",
    "    \n",
    "● Serial No.: This column represents the unique row identifier for each applicant in the\n",
    "dataset.\n",
    "\n",
    "● GRE Scores: This column contains the GRE (Graduate Record Examination) scores of\n",
    "the applicants, which are measured on a scale of 0 to 340.\n",
    "\n",
    "● TOEFL Scores: This column includes the TOEFL (Test of English as a Foreign Language)\n",
    "scores of the applicants, which are measured on a scale of 0 to 120.\n",
    "\n",
    "● University Rating: This column indicates the rating or reputation of the university that\n",
    "the applicants are associated with.The rating is based on a scale of 0 to 5, with 5 representing the highest rating.\n",
    "\n",
    "● SOP: This column represents the strength of the applicant's statement of purpose,\n",
    "rated on a scale of 0 to 5, with 5 indicating a strong and compelling SOP.\n",
    "\n",
    "● LOR: This column represents the strength of the applicant's letter of recommendation,\n",
    "rated on a scale of 0 to 5, with 5 indicating a strong and compelling LOR.\n",
    "\n",
    "● CGPA: This column contains the undergraduate Grade Point Average (GPA) of the\n",
    "applicants, which is measured on a scale of 0 to 10.\n",
    "\n",
    "● Research: This column indicates whether the applicant has research experience (1) or\n",
    "not (0).\n",
    "\n",
    "● Chance of Admit: This column represents the estimated probability or chance of\n",
    "admission for each applicant, ranging from 0 to 1.\n",
    "\n",
    "These columns provide relevant information about the applicants' academic qualifications, test\n",
    "scores, university ratings, and other factors that may influence their chances of admission."
   ]
  },
  {
   "cell_type": "markdown",
   "metadata": {},
   "source": [
    "import numpy as np\n",
    "import pandas as pd\n",
    "import matplotlib.pyplot as plt\n",
    "import seaborn as sns\n",
    "from sklearn.linear_model import LinearRegression\n",
    "from sklearn.model_selection import train_test_split"
   ]
  },
  {
   "cell_type": "markdown",
   "metadata": {},
   "source": [
    "# Loading Jamboree Data"
   ]
  },
  {
   "cell_type": "code",
   "execution_count": 1,
   "metadata": {},
   "outputs": [],
   "source": [
    "import numpy as np\n",
    "import pandas as pd\n",
    "from sklearn.model_selection import train_test_split\n",
    "import matplotlib.pyplot as plt\n",
    "import seaborn as sns\n",
    "from sklearn.preprocessing import StandardScaler, MinMaxScaler\n",
    "import statsmodels.api as sm\n",
    "from sklearn.linear_model import LinearRegression\n",
    "import warnings\n",
    "warnings.filterwarnings(\"ignore\")"
   ]
  },
  {
   "cell_type": "code",
   "execution_count": 2,
   "metadata": {},
   "outputs": [],
   "source": [
    "data = pd.read_csv('Jamboree_Admission.csv')"
   ]
  },
  {
   "cell_type": "code",
   "execution_count": 3,
   "metadata": {},
   "outputs": [
    {
     "data": {
      "text/html": [
       "<div>\n",
       "<style scoped>\n",
       "    .dataframe tbody tr th:only-of-type {\n",
       "        vertical-align: middle;\n",
       "    }\n",
       "\n",
       "    .dataframe tbody tr th {\n",
       "        vertical-align: top;\n",
       "    }\n",
       "\n",
       "    .dataframe thead th {\n",
       "        text-align: right;\n",
       "    }\n",
       "</style>\n",
       "<table border=\"1\" class=\"dataframe\">\n",
       "  <thead>\n",
       "    <tr style=\"text-align: right;\">\n",
       "      <th></th>\n",
       "      <th>Serial No.</th>\n",
       "      <th>GRE Score</th>\n",
       "      <th>TOEFL Score</th>\n",
       "      <th>University Rating</th>\n",
       "      <th>SOP</th>\n",
       "      <th>LOR</th>\n",
       "      <th>CGPA</th>\n",
       "      <th>Research</th>\n",
       "      <th>Chance of Admit</th>\n",
       "    </tr>\n",
       "  </thead>\n",
       "  <tbody>\n",
       "    <tr>\n",
       "      <th>0</th>\n",
       "      <td>1</td>\n",
       "      <td>337</td>\n",
       "      <td>118</td>\n",
       "      <td>4</td>\n",
       "      <td>4.5</td>\n",
       "      <td>4.5</td>\n",
       "      <td>9.65</td>\n",
       "      <td>1</td>\n",
       "      <td>0.92</td>\n",
       "    </tr>\n",
       "    <tr>\n",
       "      <th>1</th>\n",
       "      <td>2</td>\n",
       "      <td>324</td>\n",
       "      <td>107</td>\n",
       "      <td>4</td>\n",
       "      <td>4.0</td>\n",
       "      <td>4.5</td>\n",
       "      <td>8.87</td>\n",
       "      <td>1</td>\n",
       "      <td>0.76</td>\n",
       "    </tr>\n",
       "    <tr>\n",
       "      <th>2</th>\n",
       "      <td>3</td>\n",
       "      <td>316</td>\n",
       "      <td>104</td>\n",
       "      <td>3</td>\n",
       "      <td>3.0</td>\n",
       "      <td>3.5</td>\n",
       "      <td>8.00</td>\n",
       "      <td>1</td>\n",
       "      <td>0.72</td>\n",
       "    </tr>\n",
       "    <tr>\n",
       "      <th>3</th>\n",
       "      <td>4</td>\n",
       "      <td>322</td>\n",
       "      <td>110</td>\n",
       "      <td>3</td>\n",
       "      <td>3.5</td>\n",
       "      <td>2.5</td>\n",
       "      <td>8.67</td>\n",
       "      <td>1</td>\n",
       "      <td>0.80</td>\n",
       "    </tr>\n",
       "    <tr>\n",
       "      <th>4</th>\n",
       "      <td>5</td>\n",
       "      <td>314</td>\n",
       "      <td>103</td>\n",
       "      <td>2</td>\n",
       "      <td>2.0</td>\n",
       "      <td>3.0</td>\n",
       "      <td>8.21</td>\n",
       "      <td>0</td>\n",
       "      <td>0.65</td>\n",
       "    </tr>\n",
       "    <tr>\n",
       "      <th>...</th>\n",
       "      <td>...</td>\n",
       "      <td>...</td>\n",
       "      <td>...</td>\n",
       "      <td>...</td>\n",
       "      <td>...</td>\n",
       "      <td>...</td>\n",
       "      <td>...</td>\n",
       "      <td>...</td>\n",
       "      <td>...</td>\n",
       "    </tr>\n",
       "    <tr>\n",
       "      <th>495</th>\n",
       "      <td>496</td>\n",
       "      <td>332</td>\n",
       "      <td>108</td>\n",
       "      <td>5</td>\n",
       "      <td>4.5</td>\n",
       "      <td>4.0</td>\n",
       "      <td>9.02</td>\n",
       "      <td>1</td>\n",
       "      <td>0.87</td>\n",
       "    </tr>\n",
       "    <tr>\n",
       "      <th>496</th>\n",
       "      <td>497</td>\n",
       "      <td>337</td>\n",
       "      <td>117</td>\n",
       "      <td>5</td>\n",
       "      <td>5.0</td>\n",
       "      <td>5.0</td>\n",
       "      <td>9.87</td>\n",
       "      <td>1</td>\n",
       "      <td>0.96</td>\n",
       "    </tr>\n",
       "    <tr>\n",
       "      <th>497</th>\n",
       "      <td>498</td>\n",
       "      <td>330</td>\n",
       "      <td>120</td>\n",
       "      <td>5</td>\n",
       "      <td>4.5</td>\n",
       "      <td>5.0</td>\n",
       "      <td>9.56</td>\n",
       "      <td>1</td>\n",
       "      <td>0.93</td>\n",
       "    </tr>\n",
       "    <tr>\n",
       "      <th>498</th>\n",
       "      <td>499</td>\n",
       "      <td>312</td>\n",
       "      <td>103</td>\n",
       "      <td>4</td>\n",
       "      <td>4.0</td>\n",
       "      <td>5.0</td>\n",
       "      <td>8.43</td>\n",
       "      <td>0</td>\n",
       "      <td>0.73</td>\n",
       "    </tr>\n",
       "    <tr>\n",
       "      <th>499</th>\n",
       "      <td>500</td>\n",
       "      <td>327</td>\n",
       "      <td>113</td>\n",
       "      <td>4</td>\n",
       "      <td>4.5</td>\n",
       "      <td>4.5</td>\n",
       "      <td>9.04</td>\n",
       "      <td>0</td>\n",
       "      <td>0.84</td>\n",
       "    </tr>\n",
       "  </tbody>\n",
       "</table>\n",
       "<p>500 rows × 9 columns</p>\n",
       "</div>"
      ],
      "text/plain": [
       "     Serial No.  GRE Score  TOEFL Score  University Rating  SOP  LOR   CGPA  \\\n",
       "0             1        337          118                  4  4.5   4.5  9.65   \n",
       "1             2        324          107                  4  4.0   4.5  8.87   \n",
       "2             3        316          104                  3  3.0   3.5  8.00   \n",
       "3             4        322          110                  3  3.5   2.5  8.67   \n",
       "4             5        314          103                  2  2.0   3.0  8.21   \n",
       "..          ...        ...          ...                ...  ...   ...   ...   \n",
       "495         496        332          108                  5  4.5   4.0  9.02   \n",
       "496         497        337          117                  5  5.0   5.0  9.87   \n",
       "497         498        330          120                  5  4.5   5.0  9.56   \n",
       "498         499        312          103                  4  4.0   5.0  8.43   \n",
       "499         500        327          113                  4  4.5   4.5  9.04   \n",
       "\n",
       "     Research  Chance of Admit   \n",
       "0           1              0.92  \n",
       "1           1              0.76  \n",
       "2           1              0.72  \n",
       "3           1              0.80  \n",
       "4           0              0.65  \n",
       "..        ...               ...  \n",
       "495         1              0.87  \n",
       "496         1              0.96  \n",
       "497         1              0.93  \n",
       "498         0              0.73  \n",
       "499         0              0.84  \n",
       "\n",
       "[500 rows x 9 columns]"
      ]
     },
     "execution_count": 3,
     "metadata": {},
     "output_type": "execute_result"
    }
   ],
   "source": [
    "data"
   ]
  },
  {
   "cell_type": "code",
   "execution_count": 4,
   "metadata": {},
   "outputs": [
    {
     "data": {
      "text/plain": [
       "(500, 9)"
      ]
     },
     "execution_count": 4,
     "metadata": {},
     "output_type": "execute_result"
    }
   ],
   "source": [
    "data.shape"
   ]
  },
  {
   "cell_type": "code",
   "execution_count": 5,
   "metadata": {},
   "outputs": [
    {
     "data": {
      "text/plain": [
       "Serial No.             int64\n",
       "GRE Score              int64\n",
       "TOEFL Score            int64\n",
       "University Rating      int64\n",
       "SOP                  float64\n",
       "LOR                  float64\n",
       "CGPA                 float64\n",
       "Research               int64\n",
       "Chance of Admit      float64\n",
       "dtype: object"
      ]
     },
     "execution_count": 5,
     "metadata": {},
     "output_type": "execute_result"
    }
   ],
   "source": [
    "data.dtypes"
   ]
  },
  {
   "cell_type": "code",
   "execution_count": 6,
   "metadata": {},
   "outputs": [
    {
     "data": {
      "text/plain": [
       "Serial No.           0\n",
       "GRE Score            0\n",
       "TOEFL Score          0\n",
       "University Rating    0\n",
       "SOP                  0\n",
       "LOR                  0\n",
       "CGPA                 0\n",
       "Research             0\n",
       "Chance of Admit      0\n",
       "dtype: int64"
      ]
     },
     "execution_count": 6,
     "metadata": {},
     "output_type": "execute_result"
    }
   ],
   "source": [
    "data.isnull().sum()"
   ]
  },
  {
   "cell_type": "markdown",
   "metadata": {},
   "source": [
    "Insight: No null values."
   ]
  },
  {
   "cell_type": "code",
   "execution_count": 7,
   "metadata": {},
   "outputs": [],
   "source": [
    "#We donot need 'Serial No.' column for the analysis.So dropping that column\n",
    "data.drop('Serial No.', axis=1, inplace=True)"
   ]
  },
  {
   "cell_type": "code",
   "execution_count": 8,
   "metadata": {},
   "outputs": [
    {
     "data": {
      "text/html": [
       "<div>\n",
       "<style scoped>\n",
       "    .dataframe tbody tr th:only-of-type {\n",
       "        vertical-align: middle;\n",
       "    }\n",
       "\n",
       "    .dataframe tbody tr th {\n",
       "        vertical-align: top;\n",
       "    }\n",
       "\n",
       "    .dataframe thead th {\n",
       "        text-align: right;\n",
       "    }\n",
       "</style>\n",
       "<table border=\"1\" class=\"dataframe\">\n",
       "  <thead>\n",
       "    <tr style=\"text-align: right;\">\n",
       "      <th></th>\n",
       "      <th>GRE Score</th>\n",
       "      <th>TOEFL Score</th>\n",
       "      <th>University Rating</th>\n",
       "      <th>SOP</th>\n",
       "      <th>LOR</th>\n",
       "      <th>CGPA</th>\n",
       "      <th>Research</th>\n",
       "      <th>Chance of Admit</th>\n",
       "    </tr>\n",
       "  </thead>\n",
       "  <tbody>\n",
       "    <tr>\n",
       "      <th>count</th>\n",
       "      <td>500.000000</td>\n",
       "      <td>500.000000</td>\n",
       "      <td>500.000000</td>\n",
       "      <td>500.000000</td>\n",
       "      <td>500.00000</td>\n",
       "      <td>500.000000</td>\n",
       "      <td>500.000000</td>\n",
       "      <td>500.00000</td>\n",
       "    </tr>\n",
       "    <tr>\n",
       "      <th>mean</th>\n",
       "      <td>316.472000</td>\n",
       "      <td>107.192000</td>\n",
       "      <td>3.114000</td>\n",
       "      <td>3.374000</td>\n",
       "      <td>3.48400</td>\n",
       "      <td>8.576440</td>\n",
       "      <td>0.560000</td>\n",
       "      <td>0.72174</td>\n",
       "    </tr>\n",
       "    <tr>\n",
       "      <th>std</th>\n",
       "      <td>11.295148</td>\n",
       "      <td>6.081868</td>\n",
       "      <td>1.143512</td>\n",
       "      <td>0.991004</td>\n",
       "      <td>0.92545</td>\n",
       "      <td>0.604813</td>\n",
       "      <td>0.496884</td>\n",
       "      <td>0.14114</td>\n",
       "    </tr>\n",
       "    <tr>\n",
       "      <th>min</th>\n",
       "      <td>290.000000</td>\n",
       "      <td>92.000000</td>\n",
       "      <td>1.000000</td>\n",
       "      <td>1.000000</td>\n",
       "      <td>1.00000</td>\n",
       "      <td>6.800000</td>\n",
       "      <td>0.000000</td>\n",
       "      <td>0.34000</td>\n",
       "    </tr>\n",
       "    <tr>\n",
       "      <th>25%</th>\n",
       "      <td>308.000000</td>\n",
       "      <td>103.000000</td>\n",
       "      <td>2.000000</td>\n",
       "      <td>2.500000</td>\n",
       "      <td>3.00000</td>\n",
       "      <td>8.127500</td>\n",
       "      <td>0.000000</td>\n",
       "      <td>0.63000</td>\n",
       "    </tr>\n",
       "    <tr>\n",
       "      <th>50%</th>\n",
       "      <td>317.000000</td>\n",
       "      <td>107.000000</td>\n",
       "      <td>3.000000</td>\n",
       "      <td>3.500000</td>\n",
       "      <td>3.50000</td>\n",
       "      <td>8.560000</td>\n",
       "      <td>1.000000</td>\n",
       "      <td>0.72000</td>\n",
       "    </tr>\n",
       "    <tr>\n",
       "      <th>75%</th>\n",
       "      <td>325.000000</td>\n",
       "      <td>112.000000</td>\n",
       "      <td>4.000000</td>\n",
       "      <td>4.000000</td>\n",
       "      <td>4.00000</td>\n",
       "      <td>9.040000</td>\n",
       "      <td>1.000000</td>\n",
       "      <td>0.82000</td>\n",
       "    </tr>\n",
       "    <tr>\n",
       "      <th>max</th>\n",
       "      <td>340.000000</td>\n",
       "      <td>120.000000</td>\n",
       "      <td>5.000000</td>\n",
       "      <td>5.000000</td>\n",
       "      <td>5.00000</td>\n",
       "      <td>9.920000</td>\n",
       "      <td>1.000000</td>\n",
       "      <td>0.97000</td>\n",
       "    </tr>\n",
       "  </tbody>\n",
       "</table>\n",
       "</div>"
      ],
      "text/plain": [
       "        GRE Score  TOEFL Score  University Rating         SOP       LOR   \\\n",
       "count  500.000000   500.000000         500.000000  500.000000  500.00000   \n",
       "mean   316.472000   107.192000           3.114000    3.374000    3.48400   \n",
       "std     11.295148     6.081868           1.143512    0.991004    0.92545   \n",
       "min    290.000000    92.000000           1.000000    1.000000    1.00000   \n",
       "25%    308.000000   103.000000           2.000000    2.500000    3.00000   \n",
       "50%    317.000000   107.000000           3.000000    3.500000    3.50000   \n",
       "75%    325.000000   112.000000           4.000000    4.000000    4.00000   \n",
       "max    340.000000   120.000000           5.000000    5.000000    5.00000   \n",
       "\n",
       "             CGPA    Research  Chance of Admit   \n",
       "count  500.000000  500.000000         500.00000  \n",
       "mean     8.576440    0.560000           0.72174  \n",
       "std      0.604813    0.496884           0.14114  \n",
       "min      6.800000    0.000000           0.34000  \n",
       "25%      8.127500    0.000000           0.63000  \n",
       "50%      8.560000    1.000000           0.72000  \n",
       "75%      9.040000    1.000000           0.82000  \n",
       "max      9.920000    1.000000           0.97000  "
      ]
     },
     "execution_count": 8,
     "metadata": {},
     "output_type": "execute_result"
    }
   ],
   "source": [
    "data.describe()"
   ]
  },
  {
   "cell_type": "markdown",
   "metadata": {},
   "source": [
    "Insight: \n",
    "    \n",
    "    Range of columnsin given data:\n",
    "    \n",
    "        GRE Score---------[290.0, 340.0]\n",
    "        TOEFL Score-------[92.0,120.0]\n",
    "        University Rating-[1, 5]\n",
    "        SOP---------------[1, 5]\n",
    "        LOR---------------[1, 5]\n",
    "        CGPA--------------[6.8, 9.92]\n",
    "        Research----------[0, 1]\n",
    "        Chance of Admit---[0.34, 0.97]\n"
   ]
  },
  {
   "cell_type": "code",
   "execution_count": 9,
   "metadata": {},
   "outputs": [],
   "source": [
    "columns = ['GRE Score', 'TOEFL Score', 'University Rating', 'SOP', 'LOR ', 'CGPA',\n",
    "       'Research']"
   ]
  },
  {
   "cell_type": "code",
   "execution_count": 10,
   "metadata": {},
   "outputs": [
    {
     "data": {
      "image/png": "[encoded data removed]",
      "text/plain": [
       "<Figure size 1440x1296 with 7 Axes>"
      ]
     },
     "metadata": {
      "needs_background": "light"
     },
     "output_type": "display_data"
    }
   ],
   "source": [
    "fig = plt.figure(figsize=(20,18))\n",
    "for i,col in enumerate(columns):\n",
    "    plt.subplot(len(columns)/2 +1,2,i+1)\n",
    "    sns.scatterplot(x=data['Chance of Admit '], y = data[col])\n",
    "    plt.xlabel('Chance of Admit' , fontsize= 15, color = 'black')\n",
    "    plt.ylabel(col,fontsize= 15, color = 'black')\n",
    "    plt.xticks(fontsize = 15)\n",
    "fig.suptitle(\"Features Vs ChanceOfAdmit\",fontsize= 20, color = 'black')\n",
    "plt.show()"
   ]
  },
  {
   "cell_type": "markdown",
   "metadata": {},
   "source": [
    "Insight:\n",
    "    \n",
    "   From the above plots we can observe that there is a linear correlation between GRE Score, Tofel Score, CGPA which are continuous and Chance to Admit. For the other columns SOP,LOR,University Rating as the rating increases the chance to get admission also increases. On the other hand there is high chance of getting admission for research people."
   ]
  },
  {
   "cell_type": "code",
   "execution_count": 11,
   "metadata": {},
   "outputs": [
    {
     "data": {
      "image/png": "[encoded data removed]",
      "text/plain": [
       "<Figure size 720x720 with 2 Axes>"
      ]
     },
     "metadata": {
      "needs_background": "light"
     },
     "output_type": "display_data"
    }
   ],
   "source": [
    "plt.figure(figsize=(10,10))\n",
    "sns.heatmap(data.corr(), annot = True, cmap = 'mako', linewidths = 0.1, square= True, linecolor = 'Black')\n",
    "plt.yticks(rotation=0)\n",
    "plt.show()"
   ]
  },
  {
   "cell_type": "markdown",
   "metadata": {},
   "source": [
    "Insights:\n",
    "    \n",
    "    From the above fig it is known that GRE Score and CGPA are more correlated to Chance of Admit.But there are no other features that are highly correlated. So there is no need to drop any feature for now."
   ]
  },
  {
   "cell_type": "markdown",
   "metadata": {},
   "source": [
    "# Data Preprocessing"
   ]
  },
  {
   "cell_type": "code",
   "execution_count": 12,
   "metadata": {},
   "outputs": [
    {
     "data": {
      "text/plain": [
       "0"
      ]
     },
     "execution_count": 12,
     "metadata": {},
     "output_type": "execute_result"
    }
   ],
   "source": [
    "data.duplicated().sum()"
   ]
  },
  {
   "cell_type": "markdown",
   "metadata": {},
   "source": [
    "Insight:\n",
    "    \n",
    "    No duplicate records found."
   ]
  },
  {
   "cell_type": "code",
   "execution_count": 13,
   "metadata": {},
   "outputs": [
    {
     "data": {
      "image/png": "[encoded data removed]",
      "text/plain": [
       "<Figure size 1440x1296 with 7 Axes>"
      ]
     },
     "metadata": {
      "needs_background": "light"
     },
     "output_type": "display_data"
    }
   ],
   "source": [
    "fig = plt.figure(figsize=(20,18))\n",
    "for i,col in enumerate(columns):\n",
    "    plt.subplot(len(columns)/2 +1,2,i+1)\n",
    "    sns.boxplot(data = data,x= col, color = 'orange')\n",
    "    plt.xlabel(col, fontsize=15)\n",
    "    #plt.xticks(fontsize = 15)\n",
    "#fig.suptitle(\"Features Vs ChanceOfAdmit\",fontsize= 20, color = 'black')\n",
    "plt.show()"
   ]
  },
  {
   "cell_type": "markdown",
   "metadata": {},
   "source": [
    "Insights:\n",
    "    \n",
    "    Other than LOR there no outliers found in other features. And there is no need for treating LOR as it is one of the ratings given on scale 0-5."
   ]
  },
  {
   "cell_type": "markdown",
   "metadata": {},
   "source": [
    "# Preparing the data for modeling"
   ]
  },
  {
   "cell_type": "markdown",
   "metadata": {},
   "source": [
    "### STEP-1: Encoding\n",
    "    \n",
    "    As our data has no categorical variables there is no need for encoding."
   ]
  },
  {
   "cell_type": "markdown",
   "metadata": {},
   "source": [
    "### STEP-2: Feature and Target split\n",
    "\n",
    "    Splitting entire data to two parts, one contains data of 'Chance of Admit' which is the target column \n",
    "    for our analysis and the other part contains all the other features."
   ]
  },
  {
   "cell_type": "code",
   "execution_count": 14,
   "metadata": {},
   "outputs": [],
   "source": [
    "y = data['Chance of Admit ']\n",
    "data.drop('Chance of Admit ', axis=1, inplace= True)\n",
    "X = data"
   ]
  },
  {
   "cell_type": "code",
   "execution_count": 15,
   "metadata": {},
   "outputs": [
    {
     "data": {
      "text/plain": [
       "((500, 7), (500,))"
      ]
     },
     "execution_count": 15,
     "metadata": {},
     "output_type": "execute_result"
    }
   ],
   "source": [
    "X.shape, y.shape"
   ]
  },
  {
   "cell_type": "markdown",
   "metadata": {},
   "source": [
    "### STEP-3: Train-test split\n",
    "\n",
    "    Splitting data ito train and test data in 80/20 ratio."
   ]
  },
  {
   "cell_type": "code",
   "execution_count": 16,
   "metadata": {},
   "outputs": [],
   "source": [
    "X_train, X_test, y_train, y_test = train_test_split(X, y, test_size=0.2, random_state=42)"
   ]
  },
  {
   "cell_type": "code",
   "execution_count": 17,
   "metadata": {},
   "outputs": [
    {
     "name": "stdout",
     "output_type": "stream",
     "text": [
      "X_train:(400, 7),X_test:(100, 7), y_train:(400,), y_test:(100,)\n"
     ]
    }
   ],
   "source": [
    "print(f\"X_train:{X_train.shape},X_test:{X_test.shape}, y_train:{y_train.shape}, y_test:{y_test.shape}\")"
   ]
  },
  {
   "cell_type": "markdown",
   "metadata": {},
   "source": [
    "### STEP-4: Data Normalization/Standardization\n",
    "    \n",
    "    Data normalization helps in scaling the whole data under one scale.We use StandardScaler for Normalizing data."
   ]
  },
  {
   "cell_type": "code",
   "execution_count": 18,
   "metadata": {},
   "outputs": [
    {
     "data": {
      "text/html": [
       "<div>\n",
       "<style scoped>\n",
       "    .dataframe tbody tr th:only-of-type {\n",
       "        vertical-align: middle;\n",
       "    }\n",
       "\n",
       "    .dataframe tbody tr th {\n",
       "        vertical-align: top;\n",
       "    }\n",
       "\n",
       "    .dataframe thead th {\n",
       "        text-align: right;\n",
       "    }\n",
       "</style>\n",
       "<table border=\"1\" class=\"dataframe\">\n",
       "  <thead>\n",
       "    <tr style=\"text-align: right;\">\n",
       "      <th></th>\n",
       "      <th>GRE Score</th>\n",
       "      <th>TOEFL Score</th>\n",
       "      <th>University Rating</th>\n",
       "      <th>SOP</th>\n",
       "      <th>LOR</th>\n",
       "      <th>CGPA</th>\n",
       "      <th>Research</th>\n",
       "    </tr>\n",
       "  </thead>\n",
       "  <tbody>\n",
       "    <tr>\n",
       "      <th>0</th>\n",
       "      <td>0.389986</td>\n",
       "      <td>0.602418</td>\n",
       "      <td>-0.098298</td>\n",
       "      <td>0.126796</td>\n",
       "      <td>0.564984</td>\n",
       "      <td>0.415018</td>\n",
       "      <td>0.895434</td>\n",
       "    </tr>\n",
       "    <tr>\n",
       "      <th>1</th>\n",
       "      <td>-0.066405</td>\n",
       "      <td>0.602418</td>\n",
       "      <td>0.775459</td>\n",
       "      <td>0.633979</td>\n",
       "      <td>1.651491</td>\n",
       "      <td>-0.067852</td>\n",
       "      <td>-1.116777</td>\n",
       "    </tr>\n",
       "    <tr>\n",
       "      <th>2</th>\n",
       "      <td>-1.253022</td>\n",
       "      <td>-0.876917</td>\n",
       "      <td>-0.098298</td>\n",
       "      <td>0.126796</td>\n",
       "      <td>-0.521524</td>\n",
       "      <td>-0.134454</td>\n",
       "      <td>-1.116777</td>\n",
       "    </tr>\n",
       "    <tr>\n",
       "      <th>3</th>\n",
       "      <td>-0.248961</td>\n",
       "      <td>-0.055064</td>\n",
       "      <td>-0.972054</td>\n",
       "      <td>-0.887570</td>\n",
       "      <td>0.564984</td>\n",
       "      <td>-0.517420</td>\n",
       "      <td>-1.116777</td>\n",
       "    </tr>\n",
       "    <tr>\n",
       "      <th>4</th>\n",
       "      <td>-0.796631</td>\n",
       "      <td>-0.219435</td>\n",
       "      <td>-0.098298</td>\n",
       "      <td>0.126796</td>\n",
       "      <td>-1.064777</td>\n",
       "      <td>-0.617324</td>\n",
       "      <td>0.895434</td>\n",
       "    </tr>\n",
       "  </tbody>\n",
       "</table>\n",
       "</div>"
      ],
      "text/plain": [
       "   GRE Score  TOEFL Score  University Rating       SOP      LOR       CGPA  \\\n",
       "0   0.389986     0.602418          -0.098298  0.126796  0.564984  0.415018   \n",
       "1  -0.066405     0.602418           0.775459  0.633979  1.651491 -0.067852   \n",
       "2  -1.253022    -0.876917          -0.098298  0.126796 -0.521524 -0.134454   \n",
       "3  -0.248961    -0.055064          -0.972054 -0.887570  0.564984 -0.517420   \n",
       "4  -0.796631    -0.219435          -0.098298  0.126796 -1.064777 -0.617324   \n",
       "\n",
       "   Research  \n",
       "0  0.895434  \n",
       "1 -1.116777  \n",
       "2 -1.116777  \n",
       "3 -1.116777  \n",
       "4  0.895434  "
      ]
     },
     "execution_count": 18,
     "metadata": {},
     "output_type": "execute_result"
    }
   ],
   "source": [
    "scaler = StandardScaler()\n",
    "#scaler = MinMaxScaler()\n",
    "X_train = pd.DataFrame(scaler.fit_transform(X_train), columns=X_train.columns)\n",
    "X_train.head()"
   ]
  },
  {
   "cell_type": "code",
   "execution_count": 19,
   "metadata": {},
   "outputs": [
    {
     "data": {
      "text/html": [
       "<div>\n",
       "<style scoped>\n",
       "    .dataframe tbody tr th:only-of-type {\n",
       "        vertical-align: middle;\n",
       "    }\n",
       "\n",
       "    .dataframe tbody tr th {\n",
       "        vertical-align: top;\n",
       "    }\n",
       "\n",
       "    .dataframe thead th {\n",
       "        text-align: right;\n",
       "    }\n",
       "</style>\n",
       "<table border=\"1\" class=\"dataframe\">\n",
       "  <thead>\n",
       "    <tr style=\"text-align: right;\">\n",
       "      <th></th>\n",
       "      <th>GRE Score</th>\n",
       "      <th>TOEFL Score</th>\n",
       "      <th>University Rating</th>\n",
       "      <th>SOP</th>\n",
       "      <th>LOR</th>\n",
       "      <th>CGPA</th>\n",
       "      <th>Research</th>\n",
       "    </tr>\n",
       "  </thead>\n",
       "  <tbody>\n",
       "    <tr>\n",
       "      <th>0</th>\n",
       "      <td>1.576604</td>\n",
       "      <td>1.424271</td>\n",
       "      <td>0.775459</td>\n",
       "      <td>0.633979</td>\n",
       "      <td>0.021730</td>\n",
       "      <td>1.597217</td>\n",
       "      <td>0.895434</td>\n",
       "    </tr>\n",
       "    <tr>\n",
       "      <th>1</th>\n",
       "      <td>-0.248961</td>\n",
       "      <td>0.109306</td>\n",
       "      <td>0.775459</td>\n",
       "      <td>1.141162</td>\n",
       "      <td>0.564984</td>\n",
       "      <td>0.764683</td>\n",
       "      <td>0.895434</td>\n",
       "    </tr>\n",
       "    <tr>\n",
       "      <th>2</th>\n",
       "      <td>-0.157683</td>\n",
       "      <td>-0.383805</td>\n",
       "      <td>-0.972054</td>\n",
       "      <td>-1.394754</td>\n",
       "      <td>-1.064777</td>\n",
       "      <td>-1.549762</td>\n",
       "      <td>-1.116777</td>\n",
       "    </tr>\n",
       "    <tr>\n",
       "      <th>3</th>\n",
       "      <td>-0.431518</td>\n",
       "      <td>0.273677</td>\n",
       "      <td>-0.098298</td>\n",
       "      <td>-0.380387</td>\n",
       "      <td>-0.521524</td>\n",
       "      <td>0.181909</td>\n",
       "      <td>-1.116777</td>\n",
       "    </tr>\n",
       "    <tr>\n",
       "      <th>4</th>\n",
       "      <td>0.846378</td>\n",
       "      <td>0.766789</td>\n",
       "      <td>-0.098298</td>\n",
       "      <td>0.126796</td>\n",
       "      <td>-0.521524</td>\n",
       "      <td>0.781333</td>\n",
       "      <td>0.895434</td>\n",
       "    </tr>\n",
       "  </tbody>\n",
       "</table>\n",
       "</div>"
      ],
      "text/plain": [
       "   GRE Score  TOEFL Score  University Rating       SOP      LOR       CGPA  \\\n",
       "0   1.576604     1.424271           0.775459  0.633979  0.021730  1.597217   \n",
       "1  -0.248961     0.109306           0.775459  1.141162  0.564984  0.764683   \n",
       "2  -0.157683    -0.383805          -0.972054 -1.394754 -1.064777 -1.549762   \n",
       "3  -0.431518     0.273677          -0.098298 -0.380387 -0.521524  0.181909   \n",
       "4   0.846378     0.766789          -0.098298  0.126796 -0.521524  0.781333   \n",
       "\n",
       "   Research  \n",
       "0  0.895434  \n",
       "1  0.895434  \n",
       "2 -1.116777  \n",
       "3 -1.116777  \n",
       "4  0.895434  "
      ]
     },
     "execution_count": 19,
     "metadata": {},
     "output_type": "execute_result"
    }
   ],
   "source": [
    "X_test = pd.DataFrame(scaler.transform(X_test), columns = X_test.columns)\n",
    "X_test.head()"
   ]
  },
  {
   "cell_type": "code",
   "execution_count": 20,
   "metadata": {},
   "outputs": [
    {
     "data": {
      "text/html": [
       "<div>\n",
       "<style scoped>\n",
       "    .dataframe tbody tr th:only-of-type {\n",
       "        vertical-align: middle;\n",
       "    }\n",
       "\n",
       "    .dataframe tbody tr th {\n",
       "        vertical-align: top;\n",
       "    }\n",
       "\n",
       "    .dataframe thead th {\n",
       "        text-align: right;\n",
       "    }\n",
       "</style>\n",
       "<table border=\"1\" class=\"dataframe\">\n",
       "  <thead>\n",
       "    <tr style=\"text-align: right;\">\n",
       "      <th></th>\n",
       "      <th>GRE Score</th>\n",
       "      <th>TOEFL Score</th>\n",
       "      <th>University Rating</th>\n",
       "      <th>SOP</th>\n",
       "      <th>LOR</th>\n",
       "      <th>CGPA</th>\n",
       "      <th>Research</th>\n",
       "    </tr>\n",
       "  </thead>\n",
       "  <tbody>\n",
       "    <tr>\n",
       "      <th>0</th>\n",
       "      <td>0.389986</td>\n",
       "      <td>0.602418</td>\n",
       "      <td>-0.098298</td>\n",
       "      <td>0.126796</td>\n",
       "      <td>0.564984</td>\n",
       "      <td>0.415018</td>\n",
       "      <td>0.895434</td>\n",
       "    </tr>\n",
       "    <tr>\n",
       "      <th>1</th>\n",
       "      <td>-0.066405</td>\n",
       "      <td>0.602418</td>\n",
       "      <td>0.775459</td>\n",
       "      <td>0.633979</td>\n",
       "      <td>1.651491</td>\n",
       "      <td>-0.067852</td>\n",
       "      <td>-1.116777</td>\n",
       "    </tr>\n",
       "    <tr>\n",
       "      <th>2</th>\n",
       "      <td>-1.253022</td>\n",
       "      <td>-0.876917</td>\n",
       "      <td>-0.098298</td>\n",
       "      <td>0.126796</td>\n",
       "      <td>-0.521524</td>\n",
       "      <td>-0.134454</td>\n",
       "      <td>-1.116777</td>\n",
       "    </tr>\n",
       "    <tr>\n",
       "      <th>3</th>\n",
       "      <td>-0.248961</td>\n",
       "      <td>-0.055064</td>\n",
       "      <td>-0.972054</td>\n",
       "      <td>-0.887570</td>\n",
       "      <td>0.564984</td>\n",
       "      <td>-0.517420</td>\n",
       "      <td>-1.116777</td>\n",
       "    </tr>\n",
       "    <tr>\n",
       "      <th>4</th>\n",
       "      <td>-0.796631</td>\n",
       "      <td>-0.219435</td>\n",
       "      <td>-0.098298</td>\n",
       "      <td>0.126796</td>\n",
       "      <td>-1.064777</td>\n",
       "      <td>-0.617324</td>\n",
       "      <td>0.895434</td>\n",
       "    </tr>\n",
       "    <tr>\n",
       "      <th>...</th>\n",
       "      <td>...</td>\n",
       "      <td>...</td>\n",
       "      <td>...</td>\n",
       "      <td>...</td>\n",
       "      <td>...</td>\n",
       "      <td>...</td>\n",
       "      <td>...</td>\n",
       "    </tr>\n",
       "    <tr>\n",
       "      <th>395</th>\n",
       "      <td>1.120212</td>\n",
       "      <td>0.602418</td>\n",
       "      <td>0.775459</td>\n",
       "      <td>1.141162</td>\n",
       "      <td>1.108237</td>\n",
       "      <td>0.997792</td>\n",
       "      <td>0.895434</td>\n",
       "    </tr>\n",
       "    <tr>\n",
       "      <th>396</th>\n",
       "      <td>-0.979187</td>\n",
       "      <td>-0.383805</td>\n",
       "      <td>-0.972054</td>\n",
       "      <td>-0.887570</td>\n",
       "      <td>-0.521524</td>\n",
       "      <td>-0.600673</td>\n",
       "      <td>0.895434</td>\n",
       "    </tr>\n",
       "    <tr>\n",
       "      <th>397</th>\n",
       "      <td>-1.344300</td>\n",
       "      <td>-1.370029</td>\n",
       "      <td>-1.845810</td>\n",
       "      <td>-1.394754</td>\n",
       "      <td>-1.608031</td>\n",
       "      <td>-2.215790</td>\n",
       "      <td>-1.116777</td>\n",
       "    </tr>\n",
       "    <tr>\n",
       "      <th>398</th>\n",
       "      <td>-0.705353</td>\n",
       "      <td>-0.383805</td>\n",
       "      <td>-0.972054</td>\n",
       "      <td>-0.887570</td>\n",
       "      <td>0.564984</td>\n",
       "      <td>-1.499810</td>\n",
       "      <td>-1.116777</td>\n",
       "    </tr>\n",
       "    <tr>\n",
       "      <th>399</th>\n",
       "      <td>-0.248961</td>\n",
       "      <td>-0.219435</td>\n",
       "      <td>-0.972054</td>\n",
       "      <td>0.633979</td>\n",
       "      <td>0.021730</td>\n",
       "      <td>-0.550721</td>\n",
       "      <td>-1.116777</td>\n",
       "    </tr>\n",
       "  </tbody>\n",
       "</table>\n",
       "<p>400 rows × 7 columns</p>\n",
       "</div>"
      ],
      "text/plain": [
       "     GRE Score  TOEFL Score  University Rating       SOP      LOR       CGPA  \\\n",
       "0     0.389986     0.602418          -0.098298  0.126796  0.564984  0.415018   \n",
       "1    -0.066405     0.602418           0.775459  0.633979  1.651491 -0.067852   \n",
       "2    -1.253022    -0.876917          -0.098298  0.126796 -0.521524 -0.134454   \n",
       "3    -0.248961    -0.055064          -0.972054 -0.887570  0.564984 -0.517420   \n",
       "4    -0.796631    -0.219435          -0.098298  0.126796 -1.064777 -0.617324   \n",
       "..         ...          ...                ...       ...       ...       ...   \n",
       "395   1.120212     0.602418           0.775459  1.141162  1.108237  0.997792   \n",
       "396  -0.979187    -0.383805          -0.972054 -0.887570 -0.521524 -0.600673   \n",
       "397  -1.344300    -1.370029          -1.845810 -1.394754 -1.608031 -2.215790   \n",
       "398  -0.705353    -0.383805          -0.972054 -0.887570  0.564984 -1.499810   \n",
       "399  -0.248961    -0.219435          -0.972054  0.633979  0.021730 -0.550721   \n",
       "\n",
       "     Research  \n",
       "0    0.895434  \n",
       "1   -1.116777  \n",
       "2   -1.116777  \n",
       "3   -1.116777  \n",
       "4    0.895434  \n",
       "..        ...  \n",
       "395  0.895434  \n",
       "396  0.895434  \n",
       "397 -1.116777  \n",
       "398 -1.116777  \n",
       "399 -1.116777  \n",
       "\n",
       "[400 rows x 7 columns]"
      ]
     },
     "execution_count": 20,
     "metadata": {},
     "output_type": "execute_result"
    }
   ],
   "source": [
    "X_train"
   ]
  },
  {
   "cell_type": "code",
   "execution_count": 21,
   "metadata": {},
   "outputs": [
    {
     "data": {
      "text/plain": [
       "0      0.77\n",
       "1      0.71\n",
       "2      0.62\n",
       "3      0.72\n",
       "4      0.75\n",
       "       ... \n",
       "395    0.87\n",
       "396    0.72\n",
       "397    0.57\n",
       "398    0.55\n",
       "399    0.62\n",
       "Name: Chance of Admit , Length: 400, dtype: float64"
      ]
     },
     "execution_count": 21,
     "metadata": {},
     "output_type": "execute_result"
    }
   ],
   "source": [
    "y_train = y_train.reset_index(drop=True)\n",
    "y_train"
   ]
  },
  {
   "cell_type": "markdown",
   "metadata": {},
   "source": [
    "# Building Linear Regression model using Statsmodel lib"
   ]
  },
  {
   "cell_type": "code",
   "execution_count": 22,
   "metadata": {},
   "outputs": [],
   "source": [
    "X_sm = sm.add_constant(X_train)"
   ]
  },
  {
   "cell_type": "code",
   "execution_count": 23,
   "metadata": {},
   "outputs": [
    {
     "data": {
      "text/plain": [
       "((400, 7), (400,), (400, 8))"
      ]
     },
     "execution_count": 23,
     "metadata": {},
     "output_type": "execute_result"
    }
   ],
   "source": [
    "X_train.shape,y_train.shape,X_sm.shape"
   ]
  },
  {
   "cell_type": "code",
   "execution_count": 24,
   "metadata": {},
   "outputs": [
    {
     "name": "stdout",
     "output_type": "stream",
     "text": [
      "                            OLS Regression Results                            \n",
      "==============================================================================\n",
      "Dep. Variable:       Chance of Admit    R-squared:                       0.821\n",
      "Model:                            OLS   Adj. R-squared:                  0.818\n",
      "Method:                 Least Squares   F-statistic:                     257.0\n",
      "Date:                Wed, 14 Feb 2024   Prob (F-statistic):          3.41e-142\n",
      "Time:                        18:55:22   Log-Likelihood:                 561.91\n",
      "No. Observations:                 400   AIC:                            -1108.\n",
      "Df Residuals:                     392   BIC:                            -1076.\n",
      "Df Model:                           7                                         \n",
      "Covariance Type:            nonrobust                                         \n",
      "=====================================================================================\n",
      "                        coef    std err          t      P>|t|      [0.025      0.975]\n",
      "-------------------------------------------------------------------------------------\n",
      "const                 0.7242      0.003    241.441      0.000       0.718       0.730\n",
      "GRE Score             0.0267      0.006      4.196      0.000       0.014       0.039\n",
      "TOEFL Score           0.0182      0.006      3.174      0.002       0.007       0.030\n",
      "University Rating     0.0029      0.005      0.611      0.541      -0.007       0.012\n",
      "SOP                   0.0018      0.005      0.357      0.721      -0.008       0.012\n",
      "LOR                   0.0159      0.004      3.761      0.000       0.008       0.024\n",
      "CGPA                  0.0676      0.006     10.444      0.000       0.055       0.080\n",
      "Research              0.0119      0.004      3.231      0.001       0.005       0.019\n",
      "==============================================================================\n",
      "Omnibus:                       86.232   Durbin-Watson:                   2.050\n",
      "Prob(Omnibus):                  0.000   Jarque-Bera (JB):              190.099\n",
      "Skew:                          -1.107   Prob(JB):                     5.25e-42\n",
      "Kurtosis:                       5.551   Cond. No.                         5.65\n",
      "==============================================================================\n",
      "\n",
      "Notes:\n",
      "[1] Standard Errors assume that the covariance matrix of the errors is correctly specified.\n"
     ]
    }
   ],
   "source": [
    "model = sm.OLS(y_train, X_sm)\n",
    "results = model.fit()\n",
    "\n",
    "\n",
    "# statstical summary of the model\n",
    "print(results.summary())"
   ]
  },
  {
   "cell_type": "markdown",
   "metadata": {},
   "source": [
    "Insights:\n",
    "    \n",
    "    From the above summary we can say that CGPA and GRE score are more important features as they \n",
    "    have more weights.\n",
    "    The adj R2_score is descent value of 0.81."
   ]
  },
  {
   "cell_type": "markdown",
   "metadata": {},
   "source": [
    "# Assumptions of linear regression."
   ]
  },
  {
   "cell_type": "markdown",
   "metadata": {},
   "source": [
    "1. No multicolinearity: \n",
    "\n",
    "    Multicollinearity check by VIF(Variance Inflation Factor) score.\n",
    "    Variables are dropped one-by-one till none has a VIF>5.\n",
    "    \n",
    "    \n",
    "2. Mean of residuals should be close to zero.\n",
    "\n",
    "\n",
    "3. Linear relationship between independent & dependent variables.\n",
    "\n",
    "    This can be checked using the following methods:\n",
    "    ■ Scatter plots\n",
    "    ■ Regression plots\n",
    "    ■ Pearson Correlation\n",
    "    \n",
    "    \n",
    "4. Test for Homoscedasticity\n",
    "\n",
    "    ■ Create a scatterplot of residuals against predicted values.\n",
    "    ■ Perform a Goldfeld-Quandt test to check the presence of\n",
    "    Heteroscedasticity in the data.\n",
    "    ■ If the obtained p-value>0.05, there is no strong evidence of\n",
    "    heteroscedas\n",
    "    \n",
    "    \n",
    "5. Normality of residuals\n",
    "\n",
    "    ■ Almost bell-shaped curve in residuals distribution.\n",
    "    \n",
    "    \n",
    "6. Impact of outliers"
   ]
  },
  {
   "cell_type": "markdown",
   "metadata": {},
   "source": [
    "## Assumption-1: Multicolinearity"
   ]
  },
  {
   "cell_type": "code",
   "execution_count": 25,
   "metadata": {},
   "outputs": [],
   "source": [
    "from statsmodels.stats.outliers_influence import variance_inflation_factor"
   ]
  },
  {
   "cell_type": "code",
   "execution_count": 26,
   "metadata": {},
   "outputs": [
    {
     "data": {
      "text/plain": [
       "Index(['GRE Score', 'TOEFL Score', 'University Rating', 'SOP', 'LOR ', 'CGPA',\n",
       "       'Research'],\n",
       "      dtype='object')"
      ]
     },
     "execution_count": 26,
     "metadata": {},
     "output_type": "execute_result"
    }
   ],
   "source": [
    "data.columns"
   ]
  },
  {
   "cell_type": "code",
   "execution_count": 27,
   "metadata": {},
   "outputs": [
    {
     "data": {
      "text/html": [
       "<div>\n",
       "<style scoped>\n",
       "    .dataframe tbody tr th:only-of-type {\n",
       "        vertical-align: middle;\n",
       "    }\n",
       "\n",
       "    .dataframe tbody tr th {\n",
       "        vertical-align: top;\n",
       "    }\n",
       "\n",
       "    .dataframe thead th {\n",
       "        text-align: right;\n",
       "    }\n",
       "</style>\n",
       "<table border=\"1\" class=\"dataframe\">\n",
       "  <thead>\n",
       "    <tr style=\"text-align: right;\">\n",
       "      <th></th>\n",
       "      <th>Features</th>\n",
       "      <th>VIF</th>\n",
       "    </tr>\n",
       "  </thead>\n",
       "  <tbody>\n",
       "    <tr>\n",
       "      <th>5</th>\n",
       "      <td>CGPA</td>\n",
       "      <td>4.65</td>\n",
       "    </tr>\n",
       "    <tr>\n",
       "      <th>0</th>\n",
       "      <td>GRE Score</td>\n",
       "      <td>4.49</td>\n",
       "    </tr>\n",
       "    <tr>\n",
       "      <th>1</th>\n",
       "      <td>TOEFL Score</td>\n",
       "      <td>3.66</td>\n",
       "    </tr>\n",
       "    <tr>\n",
       "      <th>3</th>\n",
       "      <td>SOP</td>\n",
       "      <td>2.79</td>\n",
       "    </tr>\n",
       "    <tr>\n",
       "      <th>2</th>\n",
       "      <td>University Rating</td>\n",
       "      <td>2.57</td>\n",
       "    </tr>\n",
       "    <tr>\n",
       "      <th>4</th>\n",
       "      <td>LOR</td>\n",
       "      <td>1.98</td>\n",
       "    </tr>\n",
       "    <tr>\n",
       "      <th>6</th>\n",
       "      <td>Research</td>\n",
       "      <td>1.52</td>\n",
       "    </tr>\n",
       "  </tbody>\n",
       "</table>\n",
       "</div>"
      ],
      "text/plain": [
       "            Features   VIF\n",
       "5               CGPA  4.65\n",
       "0          GRE Score  4.49\n",
       "1        TOEFL Score  3.66\n",
       "3                SOP  2.79\n",
       "2  University Rating  2.57\n",
       "4               LOR   1.98\n",
       "6           Research  1.52"
      ]
     },
     "execution_count": 27,
     "metadata": {},
     "output_type": "execute_result"
    }
   ],
   "source": [
    "X_t = pd.DataFrame(X_train, columns=data.columns)\n",
    "\n",
    "vif = pd.DataFrame()\n",
    "\n",
    "vif['Features'] = X_t.columns\n",
    "vif['VIF'] = [variance_inflation_factor(X_t.values, i) for i in range(X_t.shape[1])]\n",
    "vif['VIF'] = round(vif['VIF'], 2)\n",
    "vif = vif.sort_values(by = \"VIF\", ascending = False)\n",
    "vif"
   ]
  },
  {
   "cell_type": "markdown",
   "metadata": {},
   "source": [
    "Insights:\n",
    "    \n",
    "    As the Variance Inflation Factor(VIF) score is less than 5 for all the features we can say that there is \n",
    "    no much multicolinearity between the features."
   ]
  },
  {
   "cell_type": "code",
   "execution_count": 28,
   "metadata": {
    "scrolled": true
   },
   "outputs": [
    {
     "data": {
      "text/plain": [
       "LinearRegression()"
      ]
     },
     "execution_count": 28,
     "metadata": {},
     "output_type": "execute_result"
    }
   ],
   "source": [
    "model = LinearRegression()\n",
    "model.fit(X_t, y_train)"
   ]
  },
  {
   "cell_type": "code",
   "execution_count": 29,
   "metadata": {
    "scrolled": true
   },
   "outputs": [
    {
     "data": {
      "text/plain": [
       "0.8210671369321554"
      ]
     },
     "execution_count": 29,
     "metadata": {},
     "output_type": "execute_result"
    }
   ],
   "source": [
    "model.score(X_t, y_train)"
   ]
  },
  {
   "cell_type": "markdown",
   "metadata": {},
   "source": [
    "Insights:\n",
    "    \n",
    "    The R2-score for this model is 0.82 considering all the features. Let us see if there is a difference in the \n",
    "    model score after removing CGPA assuming it is correlational."
   ]
  },
  {
   "cell_type": "code",
   "execution_count": 30,
   "metadata": {},
   "outputs": [],
   "source": [
    "X_t1 = X_t.drop(columns = ['CGPA'])"
   ]
  },
  {
   "cell_type": "code",
   "execution_count": 31,
   "metadata": {},
   "outputs": [
    {
     "data": {
      "text/html": [
       "<div>\n",
       "<style scoped>\n",
       "    .dataframe tbody tr th:only-of-type {\n",
       "        vertical-align: middle;\n",
       "    }\n",
       "\n",
       "    .dataframe tbody tr th {\n",
       "        vertical-align: top;\n",
       "    }\n",
       "\n",
       "    .dataframe thead th {\n",
       "        text-align: right;\n",
       "    }\n",
       "</style>\n",
       "<table border=\"1\" class=\"dataframe\">\n",
       "  <thead>\n",
       "    <tr style=\"text-align: right;\">\n",
       "      <th></th>\n",
       "      <th>Features</th>\n",
       "      <th>VIF</th>\n",
       "    </tr>\n",
       "  </thead>\n",
       "  <tbody>\n",
       "    <tr>\n",
       "      <th>0</th>\n",
       "      <td>GRE Score</td>\n",
       "      <td>3.71</td>\n",
       "    </tr>\n",
       "    <tr>\n",
       "      <th>1</th>\n",
       "      <td>TOEFL Score</td>\n",
       "      <td>3.42</td>\n",
       "    </tr>\n",
       "    <tr>\n",
       "      <th>3</th>\n",
       "      <td>SOP</td>\n",
       "      <td>2.68</td>\n",
       "    </tr>\n",
       "    <tr>\n",
       "      <th>2</th>\n",
       "      <td>University Rating</td>\n",
       "      <td>2.53</td>\n",
       "    </tr>\n",
       "    <tr>\n",
       "      <th>4</th>\n",
       "      <td>LOR</td>\n",
       "      <td>1.88</td>\n",
       "    </tr>\n",
       "    <tr>\n",
       "      <th>5</th>\n",
       "      <td>Research</td>\n",
       "      <td>1.52</td>\n",
       "    </tr>\n",
       "  </tbody>\n",
       "</table>\n",
       "</div>"
      ],
      "text/plain": [
       "            Features   VIF\n",
       "0          GRE Score  3.71\n",
       "1        TOEFL Score  3.42\n",
       "3                SOP  2.68\n",
       "2  University Rating  2.53\n",
       "4               LOR   1.88\n",
       "5           Research  1.52"
      ]
     },
     "execution_count": 31,
     "metadata": {},
     "output_type": "execute_result"
    }
   ],
   "source": [
    "vif = pd.DataFrame()\n",
    "\n",
    "vif['Features'] = X_t1.columns\n",
    "vif['VIF'] = [variance_inflation_factor(X_t1.values, i) for i in range(X_t1.shape[1])]\n",
    "vif['VIF'] = round(vif['VIF'], 2)\n",
    "vif = vif.sort_values(by = \"VIF\", ascending = False)\n",
    "vif"
   ]
  },
  {
   "cell_type": "markdown",
   "metadata": {},
   "source": [
    "Insights:\n",
    "    \n",
    "    The VIF values decreased a little but there is no drastic change in them. Let us check if the model score \n",
    "    improves without CGPA"
   ]
  },
  {
   "cell_type": "code",
   "execution_count": 32,
   "metadata": {
    "scrolled": true
   },
   "outputs": [
    {
     "data": {
      "text/plain": [
       "LinearRegression()"
      ]
     },
     "execution_count": 32,
     "metadata": {},
     "output_type": "execute_result"
    }
   ],
   "source": [
    "model1 = LinearRegression()\n",
    "model1.fit(X_t1, y_train)"
   ]
  },
  {
   "cell_type": "code",
   "execution_count": 33,
   "metadata": {
    "scrolled": true
   },
   "outputs": [
    {
     "data": {
      "text/plain": [
       "0.7712805222402632"
      ]
     },
     "execution_count": 33,
     "metadata": {},
     "output_type": "execute_result"
    }
   ],
   "source": [
    "model1.score(X_t1, y_train)"
   ]
  },
  {
   "cell_type": "markdown",
   "metadata": {},
   "source": [
    "Insight:\n",
    "    \n",
    "    The model score got reduced without CGPA indicating that it is an important feature."
   ]
  },
  {
   "cell_type": "markdown",
   "metadata": {},
   "source": [
    "## Assumption-2: Normality of Residuals"
   ]
  },
  {
   "cell_type": "code",
   "execution_count": 34,
   "metadata": {},
   "outputs": [],
   "source": [
    "y_hat = model.predict(X_t)"
   ]
  },
  {
   "cell_type": "code",
   "execution_count": 35,
   "metadata": {},
   "outputs": [
    {
     "data": {
      "text/plain": [
       "0   -0.023197\n",
       "1   -0.035079\n",
       "2   -0.024015\n",
       "3    0.047252\n",
       "4    0.099054\n",
       "Name: Chance of Admit , dtype: float64"
      ]
     },
     "execution_count": 35,
     "metadata": {},
     "output_type": "execute_result"
    }
   ],
   "source": [
    "errs = y_train - y_hat\n",
    "errs[:5]"
   ]
  },
  {
   "cell_type": "code",
   "execution_count": 36,
   "metadata": {},
   "outputs": [
    {
     "data": {
      "image/png": "[encoded data removed]",
      "text/plain": [
       "<Figure size 432x288 with 1 Axes>"
      ]
     },
     "metadata": {
      "needs_background": "light"
     },
     "output_type": "display_data"
    }
   ],
   "source": [
    "sns.histplot(errs, kde= True)\n",
    "plt.show()"
   ]
  },
  {
   "cell_type": "markdown",
   "metadata": {},
   "source": [
    "Insights:\n",
    "    \n",
    "    Mean of residuals is distributed  around zero from the above plot. So this assumptions holds true for the \n",
    "    given data."
   ]
  },
  {
   "cell_type": "markdown",
   "metadata": {},
   "source": [
    "## Assumption-3: Linear Relationship"
   ]
  },
  {
   "cell_type": "markdown",
   "metadata": {},
   "source": [
    "Insights:\n",
    "    \n",
    "    From the scatter plot in the bivariate analysis we can say that there is linear relationship \n",
    "    between dependent variable and independent variables."
   ]
  },
  {
   "cell_type": "markdown",
   "metadata": {},
   "source": [
    "## Assumption-4: Homoscedasticity"
   ]
  },
  {
   "cell_type": "code",
   "execution_count": 37,
   "metadata": {},
   "outputs": [
    {
     "data": {
      "image/png": "[encoded data removed]",
      "text/plain": [
       "<Figure size 432x288 with 1 Axes>"
      ]
     },
     "metadata": {
      "needs_background": "light"
     },
     "output_type": "display_data"
    }
   ],
   "source": [
    "sns.scatterplot(x = y_hat, y= errs)\n",
    "plt.xlabel(\"predicted\")\n",
    "plt.ylabel(\"errors\")\n",
    "plt.show()"
   ]
  },
  {
   "cell_type": "markdown",
   "metadata": {},
   "source": [
    "Insights:\n",
    "    \n",
    "   There is no homoscedasticity as there is no cone shape pattern in the plot.Assumption for homscedasticity \n",
    "holds true for given data."
   ]
  },
  {
   "cell_type": "markdown",
   "metadata": {},
   "source": [
    "## Assumption-5: Normality of residuals"
   ]
  },
  {
   "cell_type": "code",
   "execution_count": 38,
   "metadata": {},
   "outputs": [
    {
     "data": {
      "image/png": "[encoded data removed]",
      "text/plain": [
       "<Figure size 432x288 with 1 Axes>"
      ]
     },
     "metadata": {
      "needs_background": "light"
     },
     "output_type": "display_data"
    }
   ],
   "source": [
    "sns.histplot(errs, kde=True)\n",
    "plt.show()"
   ]
  },
  {
   "cell_type": "markdown",
   "metadata": {},
   "source": [
    "Insights:\n",
    "    \n",
    "    The plot for residuals nearly is normally distributed which indicates the errors are mostly \n",
    "    concentrated nearer to zero. Assumption of normality holds true for the given data."
   ]
  },
  {
   "cell_type": "markdown",
   "metadata": {},
   "source": [
    "## Assumption-6: Impact of outliers"
   ]
  },
  {
   "cell_type": "markdown",
   "metadata": {},
   "source": [
    "As there are no outliers in our data there is no impact of outliers."
   ]
  },
  {
   "cell_type": "code",
   "execution_count": 39,
   "metadata": {},
   "outputs": [
    {
     "name": "stdout",
     "output_type": "stream",
     "text": [
      "MAE train: 0.04253334061164314\n"
     ]
    }
   ],
   "source": [
    "from sklearn.metrics import mean_absolute_error\n",
    "mae = mean_absolute_error(y_train, y_hat)\n",
    "print(\"MAE train:\", mae)"
   ]
  },
  {
   "cell_type": "code",
   "execution_count": 40,
   "metadata": {},
   "outputs": [
    {
     "name": "stdout",
     "output_type": "stream",
     "text": [
      "MAE test: 0.0427226542770537\n"
     ]
    }
   ],
   "source": [
    "mae = mean_absolute_error(y_test, model.predict(X_test))\n",
    "print(\"MAE test:\", mae)"
   ]
  },
  {
   "cell_type": "code",
   "execution_count": 41,
   "metadata": {},
   "outputs": [
    {
     "name": "stdout",
     "output_type": "stream",
     "text": [
      "RMSE train: 0.059384808482100516\n"
     ]
    }
   ],
   "source": [
    "from sklearn.metrics import mean_squared_error\n",
    "\n",
    "rmse = np.sqrt(mean_squared_error(y_train, y_hat))\n",
    "print(\"RMSE train:\", rmse)"
   ]
  },
  {
   "cell_type": "code",
   "execution_count": 42,
   "metadata": {},
   "outputs": [
    {
     "name": "stdout",
     "output_type": "stream",
     "text": [
      "RMSE test: 0.060865880415783134\n"
     ]
    }
   ],
   "source": [
    "rmse = np.sqrt(mean_squared_error(y_test, model.predict(X_test)))\n",
    "print(\"RMSE test:\", rmse)"
   ]
  },
  {
   "cell_type": "code",
   "execution_count": 43,
   "metadata": {},
   "outputs": [
    {
     "name": "stdout",
     "output_type": "stream",
     "text": [
      "R2_score train: 0.8210671369321554\n"
     ]
    }
   ],
   "source": [
    "R2_score_train = model.score(X_train,y_train)\n",
    "print(\"R2_score train:\", R2_score_train)"
   ]
  },
  {
   "cell_type": "code",
   "execution_count": 44,
   "metadata": {},
   "outputs": [
    {
     "name": "stdout",
     "output_type": "stream",
     "text": [
      "R2_score test: 0.8188432567829628\n"
     ]
    }
   ],
   "source": [
    "R2_score_test = model.score(X_test,y_test)\n",
    "print(\"R2_score test:\", R2_score_test)"
   ]
  },
  {
   "cell_type": "code",
   "execution_count": 45,
   "metadata": {},
   "outputs": [
    {
     "name": "stdout",
     "output_type": "stream",
     "text": [
      "Adj R2_score train: 0.8178719072345153\n"
     ]
    }
   ],
   "source": [
    "n,d = X_train.shape\n",
    "adj_r2 = 1 - ((1- R2_score_train)*(n-1)/(n-d-1))\n",
    "print(\"Adj R2_score train:\",adj_r2)"
   ]
  },
  {
   "cell_type": "code",
   "execution_count": 46,
   "metadata": {},
   "outputs": [
    {
     "name": "stdout",
     "output_type": "stream",
     "text": [
      "Adj R2_score test: 0.8050595915381882\n"
     ]
    }
   ],
   "source": [
    "n,d = X_test.shape\n",
    "adj_r2 = 1 - ((1- R2_score_test)*(n-1)/(n-d-1))\n",
    "print(\"Adj R2_score test:\",adj_r2)"
   ]
  },
  {
   "cell_type": "markdown",
   "metadata": {},
   "source": [
    "Insights:\n",
    "    \n",
    "    Taking \n",
    "    Adj R2_score: 0.821,\n",
    "    MAE: 0.042\n",
    "    RSME: 0.059\n",
    "    into consideration the model has decent performance with minimum errors.\n",
    "                "
   ]
  },
  {
   "cell_type": "code",
   "execution_count": null,
   "metadata": {},
   "outputs": [],
   "source": []
  }
 ],
 "metadata": {
  "kernelspec": {
   "display_name": "Python 3",
   "language": "python",
   "name": "python3"
  },
  "language_info": {
   "codemirror_mode": {
    "name": "ipython",
    "version": 3
   },
   "file_extension": ".py",
   "mimetype": "text/x-python",
   "name": "python",
   "nbconvert_exporter": "python",
   "pygments_lexer": "ipython3",
   "version": "3.8.5"
  }
 },
 "nbformat": 4,
 "nbformat_minor": 4
}
